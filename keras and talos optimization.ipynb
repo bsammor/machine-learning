{
 "cells": [
  {
   "cell_type": "code",
   "execution_count": 38,
   "metadata": {},
   "outputs": [],
   "source": [
    "from keras.models import Sequential\n",
    "from keras.layers import Dropout, Dense\n",
    "from sklearn.datasets import make_regression\n",
    "from talos.utils import hidden_layers\n",
    "import pandas as pd\n",
    "\n",
    "%matplotlib inline\n",
    "\n",
    "import sys\n",
    "import talos"
   ]
  },
  {
   "cell_type": "code",
   "execution_count": 39,
   "metadata": {},
   "outputs": [],
   "source": [
    "#china dataset that doesn't work\n",
    "#df = pd.read_csv(\"preproc.csv\") \n",
    "#train = df.drop(['Date','1d'], axis = 1)\n",
    "#y = train[train.columns[1]]\n",
    "#x = train.drop(['PM2.5'], axis = 1)\n",
    "\n",
    "#example regression dataset that works\n",
    "train_x, train_y = make_regression(n_samples = 10000,\n",
    "                                       n_features = number_of_features,\n",
    "                                       random_state = 0)\n",
    "\n",
    "# and normalize every feature to mean 0, std 1\n",
    "x = talos.utils.rescale_meanzero(x)"
   ]
  },
  {
   "cell_type": "code",
   "execution_count": 40,
   "metadata": {},
   "outputs": [],
   "source": [
    "# first we have to make sure to input data and params into the function\n",
    "def create_model(x_train, y_train, x_val, y_val, params):\n",
    "\n",
    "    model = Sequential()\n",
    "    \n",
    "    # Add first hidden layer with input_dim of input features\n",
    "    model.add(Dense(params['number_of_neurons'], input_dim=x_train.shape[1],\n",
    "                    activation=params['activation'],\n",
    "                    kernel_initializer=params['kernel_initializer']))\n",
    "    \n",
    "    # Add second hidden layer\n",
    "    model.add(Dense(params['number_of_neurons'],\n",
    "                    activation=params['activation'],\n",
    "                    kernel_initializer=params['kernel_initializer']))\n",
    "    \n",
    "    # Add final layer with a linear activation function\n",
    "    model.add(Dense(1, activation=params['last_activation'],\n",
    "                    kernel_initializer=params['kernel_initializer']))\n",
    "    \n",
    "    # Compile neural network\n",
    "    model.compile(loss=params['losses'],\n",
    "                  optimizer=params['optimizer'],\n",
    "                  metrics=['mse'])\n",
    "    \n",
    "    history = model.fit(x_train, y_train, \n",
    "                        validation_data=[x_val, y_val],\n",
    "                        batch_size=params['batch_size'],\n",
    "                        callbacks=[talos.utils.live()],\n",
    "                        epochs=params['epochs'],\n",
    "                        verbose=0)\n",
    "\n",
    "    return history, model"
   ]
  },
  {
   "cell_type": "code",
   "execution_count": 41,
   "metadata": {},
   "outputs": [],
   "source": [
    "# then we can go ahead and set the parameter space\n",
    "p = {'number_of_neurons':[16],\n",
    "     'lr': [0.001,0.01,0.1,1],\n",
    "     'batch_size': [30],\n",
    "     'epochs': [100],\n",
    "     'dropout': [0],\n",
    "     'kernel_initializer': ['uniform'],\n",
    "     'optimizer': ['Adam'],\n",
    "     'losses': ['mse'],\n",
    "     'activation':['relu'],\n",
    "     'last_activation': ['linear']}"
   ]
  },
  {
   "cell_type": "code",
   "execution_count": 42,
   "metadata": {},
   "outputs": [
    {
     "data": {
      "image/png": "[encoded data removed]",
      "text/plain": [
       "<Figure size 864x576 with 2 Axes>"
      ]
     },
     "metadata": {
      "needs_background": "light"
     },
     "output_type": "display_data"
    },
    {
     "name": "stderr",
     "output_type": "stream",
     "text": [
      "\n",
      "\n",
      "100%|██████████| 4/4 [04:27<00:00, 66.80s/it]\u001b[A\u001b[A\n"
     ]
    }
   ],
   "source": [
    "# and run the experiment\n",
    "t = talos.Scan(x=x,\n",
    "               y=y,\n",
    "               model=create_model,\n",
    "               params=p,\n",
    "               experiment_name='example_run')"
   ]
  },
  {
   "cell_type": "code",
   "execution_count": 43,
   "metadata": {},
   "outputs": [
    {
     "data": {
      "text/html": [
       "<div>\n",
       "<style scoped>\n",
       "    .dataframe tbody tr th:only-of-type {\n",
       "        vertical-align: middle;\n",
       "    }\n",
       "\n",
       "    .dataframe tbody tr th {\n",
       "        vertical-align: top;\n",
       "    }\n",
       "\n",
       "    .dataframe thead th {\n",
       "        text-align: right;\n",
       "    }\n",
       "</style>\n",
       "<table border=\"1\" class=\"dataframe\">\n",
       "  <thead>\n",
       "    <tr style=\"text-align: right;\">\n",
       "      <th></th>\n",
       "      <th>round_epochs</th>\n",
       "      <th>val_loss</th>\n",
       "      <th>val_mse</th>\n",
       "      <th>loss</th>\n",
       "      <th>mse</th>\n",
       "      <th>activation</th>\n",
       "      <th>batch_size</th>\n",
       "      <th>dropout</th>\n",
       "      <th>epochs</th>\n",
       "      <th>first_neuron</th>\n",
       "      <th>kernel_initializer</th>\n",
       "      <th>last_activation</th>\n",
       "      <th>losses</th>\n",
       "      <th>lr</th>\n",
       "      <th>optimizer</th>\n",
       "    </tr>\n",
       "  </thead>\n",
       "  <tbody>\n",
       "    <tr>\n",
       "      <th>0</th>\n",
       "      <td>100</td>\n",
       "      <td>2388.808703</td>\n",
       "      <td>2388.808350</td>\n",
       "      <td>2408.005225</td>\n",
       "      <td>2408.006348</td>\n",
       "      <td>relu</td>\n",
       "      <td>30</td>\n",
       "      <td>0</td>\n",
       "      <td>100</td>\n",
       "      <td>16</td>\n",
       "      <td>uniform</td>\n",
       "      <td>linear</td>\n",
       "      <td>mse</td>\n",
       "      <td>0.001</td>\n",
       "      <td>Adam</td>\n",
       "    </tr>\n",
       "    <tr>\n",
       "      <th>1</th>\n",
       "      <td>100</td>\n",
       "      <td>2370.477620</td>\n",
       "      <td>2370.477783</td>\n",
       "      <td>2397.236928</td>\n",
       "      <td>2397.236816</td>\n",
       "      <td>relu</td>\n",
       "      <td>30</td>\n",
       "      <td>0</td>\n",
       "      <td>100</td>\n",
       "      <td>16</td>\n",
       "      <td>uniform</td>\n",
       "      <td>linear</td>\n",
       "      <td>mse</td>\n",
       "      <td>0.010</td>\n",
       "      <td>Adam</td>\n",
       "    </tr>\n",
       "    <tr>\n",
       "      <th>2</th>\n",
       "      <td>100</td>\n",
       "      <td>2446.780623</td>\n",
       "      <td>2446.781494</td>\n",
       "      <td>2498.354331</td>\n",
       "      <td>2498.355469</td>\n",
       "      <td>relu</td>\n",
       "      <td>30</td>\n",
       "      <td>0</td>\n",
       "      <td>100</td>\n",
       "      <td>16</td>\n",
       "      <td>uniform</td>\n",
       "      <td>linear</td>\n",
       "      <td>mse</td>\n",
       "      <td>0.100</td>\n",
       "      <td>Adam</td>\n",
       "    </tr>\n",
       "    <tr>\n",
       "      <th>3</th>\n",
       "      <td>100</td>\n",
       "      <td>2383.958007</td>\n",
       "      <td>2383.958496</td>\n",
       "      <td>2396.306059</td>\n",
       "      <td>2396.306396</td>\n",
       "      <td>relu</td>\n",
       "      <td>30</td>\n",
       "      <td>0</td>\n",
       "      <td>100</td>\n",
       "      <td>16</td>\n",
       "      <td>uniform</td>\n",
       "      <td>linear</td>\n",
       "      <td>mse</td>\n",
       "      <td>1.000</td>\n",
       "      <td>Adam</td>\n",
       "    </tr>\n",
       "  </tbody>\n",
       "</table>\n",
       "</div>"
      ],
      "text/plain": [
       "   round_epochs     val_loss      val_mse         loss          mse  \\\n",
       "0           100  2388.808703  2388.808350  2408.005225  2408.006348   \n",
       "1           100  2370.477620  2370.477783  2397.236928  2397.236816   \n",
       "2           100  2446.780623  2446.781494  2498.354331  2498.355469   \n",
       "3           100  2383.958007  2383.958496  2396.306059  2396.306396   \n",
       "\n",
       "  activation  batch_size  dropout  epochs  first_neuron kernel_initializer  \\\n",
       "0       relu          30        0     100            16            uniform   \n",
       "1       relu          30        0     100            16            uniform   \n",
       "2       relu          30        0     100            16            uniform   \n",
       "3       relu          30        0     100            16            uniform   \n",
       "\n",
       "  last_activation losses     lr optimizer  \n",
       "0          linear    mse  0.001      Adam  \n",
       "1          linear    mse  0.010      Adam  \n",
       "2          linear    mse  0.100      Adam  \n",
       "3          linear    mse  1.000      Adam  "
      ]
     },
     "execution_count": 43,
     "metadata": {},
     "output_type": "execute_result"
    }
   ],
   "source": [
    "analyze_object = talos.Analyze(t)\n",
    "analyze_object.data"
   ]
  },
  {
   "cell_type": "code",
   "execution_count": 44,
   "metadata": {},
   "outputs": [
    {
     "data": {
      "text/plain": [
       "2370.477619643296"
      ]
     },
     "execution_count": 44,
     "metadata": {},
     "output_type": "execute_result"
    }
   ],
   "source": [
    "analyze_object.low('val_loss')"
   ]
  }
 ],
 "metadata": {
  "kernelspec": {
   "display_name": "Python 3",
   "language": "python",
   "name": "python3"
  },
  "language_info": {
   "codemirror_mode": {
    "name": "ipython",
    "version": 3
   },
   "file_extension": ".py",
   "mimetype": "text/x-python",
   "name": "python",
   "nbconvert_exporter": "python",
   "pygments_lexer": "ipython3",
   "version": "3.6.9"
  }
 },
 "nbformat": 4,
 "nbformat_minor": 4
}
