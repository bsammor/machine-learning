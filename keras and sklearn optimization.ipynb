{
 "cells": [
  {
   "cell_type": "code",
   "execution_count": null,
   "metadata": {},
   "outputs": [],
   "source": [
    "import numpy as np\n",
    "from keras import models\n",
    "from keras import layers\n",
    "import pandas as pd\n",
    "from keras.wrappers.scikit_learn import KerasRegressor\n",
    "from sklearn.model_selection import GridSearchCV\n",
    "from sklearn.model_selection import cross_val_score\n",
    "from sklearn.model_selection import KFold\n",
    "from sklearn.neural_network import MLPRegressor\n",
    "from sklearn.model_selection import train_test_split\n",
    "from sklearn.datasets import make_regression\n",
    "from sklearn.metrics import mean_squared_error\n",
    "\n",
    "# Set random seed\n",
    "np.random.seed(0)\n",
    "number_of_features = 7"
   ]
  },
  {
   "cell_type": "code",
   "execution_count": null,
   "metadata": {},
   "outputs": [],
   "source": [
    "#china dataset that doesn't work\n",
    "#df = pd.read_csv(\"preproc.csv\") \n",
    "#train, test = train_test_split(df, test_size=0.2)\n",
    "#train = train.drop(['Date','1d'], axis = 1)\n",
    "#test = test.drop(['Date','1d'], axis = 1)\n",
    "\n",
    "#train_y = train[train.columns[1]]\n",
    "#train_x = train.drop(['PM2.5'], axis = 1)\n",
    "\n",
    "#test_y = test[test.columns[1]]\n",
    "#test_x = test.drop(['PM2.5'], axis = 1)\n",
    "\n",
    "\n",
    "\n",
    "\n",
    "#example regression dataset that works\n",
    "train_x, train_y = make_regression(n_samples = 10000,\n",
    "                                       n_features = number_of_features,\n",
    "                                       random_state = 0)"
   ]
  },
  {
   "cell_type": "code",
   "execution_count": null,
   "metadata": {},
   "outputs": [],
   "source": [
    "def create_network(neurons = 1, lr = 0.0001):\n",
    "    \n",
    "    # Start neural network\n",
    "    network = models.Sequential()\n",
    "\n",
    "    # Add first hidden layer with a ReLU activation function\n",
    "    network.add(layers.Dense(neurons, activation='relu', input_shape=(number_of_features,)))\n",
    "\n",
    "    # Add second hidden layer with a ReLU activation function\n",
    "    network.add(layers.Dense(neurons, activation='relu'))\n",
    "\n",
    "    # Add final layer with a linear activation function\n",
    "    network.add(layers.Dense(units=1), activation='linear')\n",
    "\n",
    "    # Compile neural network\n",
    "    network.compile(loss='mean_squared_error', optimizer='adam')\n",
    "    \n",
    "    # Return compiled network\n",
    "    return network"
   ]
  },
  {
   "cell_type": "code",
   "execution_count": null,
   "metadata": {},
   "outputs": [],
   "source": [
    "neural_network = KerasRegressor(build_fn=create_network, verbose=0)"
   ]
  },
  {
   "cell_type": "code",
   "execution_count": null,
   "metadata": {},
   "outputs": [],
   "source": [
    "lr = [0.0001, 0.001, 0.01, 0.1, 0.3, 1, 0.2]\n",
    "neurons = [1, 5, 10, 15, 20, 25, 30]\n",
    "\n",
    "hyperparameters = dict(lr=lr, neurons = neurons)\n"
   ]
  },
  {
   "cell_type": "code",
   "execution_count": null,
   "metadata": {},
   "outputs": [],
   "source": [
    "# Create grid search\n",
    "grid = GridSearchCV(estimator=neural_network, cv=3, param_grid=hyperparameters)\n",
    "\n",
    "# Fit grid search\n",
    "grid_result = grid.fit(train_x, train_y)"
   ]
  },
  {
   "cell_type": "code",
   "execution_count": null,
   "metadata": {},
   "outputs": [],
   "source": [
    "print(\"Best: %f using %s\" % (grid_result.best_score_, grid_result.best_params_))\n",
    "means = grid_result.cv_results_['mean_test_score']\n",
    "stds = grid_result.cv_results_['std_test_score']\n",
    "params = grid_result.cv_results_['params']\n",
    "for mean, stdev, param in zip(means, stds, params):\n",
    "    print(\"%f (%f) with: %r\" % (mean, stdev, param))"
   ]
  }
 ],
 "metadata": {
  "kernelspec": {
   "display_name": "Python 3",
   "language": "python",
   "name": "python3"
  },
  "language_info": {
   "codemirror_mode": {
    "name": "ipython",
    "version": 3
   },
   "file_extension": ".py",
   "mimetype": "text/x-python",
   "name": "python",
   "nbconvert_exporter": "python",
   "pygments_lexer": "ipython3",
   "version": "3.6.9"
  }
 },
 "nbformat": 4,
 "nbformat_minor": 4
}
